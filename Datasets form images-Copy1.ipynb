{
 "cells": [
  {
   "cell_type": "markdown",
   "metadata": {},
   "source": [
    "# Datasets From Images"
   ]
  },
  {
   "cell_type": "markdown",
   "metadata": {},
   "source": [
    "This tutorial that will demonstrate how you can make datasets in CSV format from images and use them for Data Science, on your Laptop."
   ]
  },
  {
   "cell_type": "markdown",
   "metadata": {},
   "source": [
    "In machine learning, Deep Learning, Datascience most used data files are in json or in CSV here we will learn about CSV and use it to make dataset.\n",
    "CSV stands for Comma Separated Values. These database fields have been exported into a format that contains a single line where each database record is separated by a comma. Files with the .csv extension are similar to plain text files. This allows individuals who do not run the same database applications to share database files between one another."
   ]
  },
  {
   "cell_type": "markdown",
   "metadata": {},
   "source": [
    "For this tutorial we have few requirements:\n",
    "\n",
    "    1->Microsoft Excel \n",
    "    2->Few Images\n",
    "    3->Notepad++(I suggest it as it is easy to use, you can try with WordPad, notepad or any text editor)\n",
    "    \n",
    "With this, let’s get started"
   ]
  },
  {
   "cell_type": "markdown",
   "metadata": {},
   "source": [
    "Now let's install 'Notepad++', visit this link- https://notepad-plus-plus.org/download/v7.5.6.html and install the version that works well on your device"
   ]
  },
  {
   "cell_type": "markdown",
   "metadata": {},
   "source": [
    "# For 32-Bit"
   ]
  },
  {
   "cell_type": "markdown",
   "metadata": {},
   "source": [
    "![alt text](32-Bit.JPG \"For 32-Bit\")"
   ]
  },
  {
   "cell_type": "markdown",
   "metadata": {},
   "source": [
    "# For 64-Bit"
   ]
  },
  {
   "cell_type": "markdown",
   "metadata": {},
   "source": [
    "![alt text](64-bit.JPG \"For 64-Bit\")"
   ]
  },
  {
   "cell_type": "markdown",
   "metadata": {},
   "source": [
    "# Now download few images\n",
    "Make a new folder (I named it as a dataset), make few folders in it and fill those folders with images\n",
    "I have downloaded car number plates from few parts of the world and stored them folders."
   ]
  },
  {
   "cell_type": "markdown",
   "metadata": {},
   "source": [
    "![alt text](folders.JPG \"folders\")"
   ]
  },
  {
   "cell_type": "markdown",
   "metadata": {},
   "source": [
    "![alt text](files.JPG \"files\")"
   ]
  },
  {
   "cell_type": "markdown",
   "metadata": {},
   "source": [
    "Open terminal/Command Prompt in the current directory i.e. in the folder dataset and run commands that I will be giving. Now I will list out commands for windows users:\n",
    "    \n",
    "Command to get a list of folders and files in your directory:--  dir /b/s\n",
    "\n",
    "Command to get file names and save to a text file:--  dir /b/s/w *.jpg > \"filename.txt\"\n",
    "\n",
    "For Linux users(Ubuntu):\n",
    "\n",
    "the command to get a list of folders and files in your directory:--  ls -LR\n",
    "\n",
    "Command to get file names and save to a text file:--\n",
    "ls -LR *.jpg > files.txt\n",
    "\n",
    "For Mac OSX: macOS is POSIX compliant so it contains the usual command line utilities found in Unix environments.\n",
    "\n",
    "the command to get a list of folders and files in your directory:--ls /b/s \n",
    "\n",
    "Command to get file names and save to a text file:--\n",
    "ls /b/s/w*.jpg > filename.txt\n"
   ]
  },
  {
   "cell_type": "markdown",
   "metadata": {},
   "source": [
    "![alt text](cmd1.JPG \"cmd1\")"
   ]
  },
  {
   "cell_type": "markdown",
   "metadata": {},
   "source": [
    "![alt text](cmd2.JPG \"cmd2\")"
   ]
  },
  {
   "cell_type": "markdown",
   "metadata": {},
   "source": [
    "Here file was named by me as 'filename' here you can anything of your wish like 'names.txt', it will be stored in the directory where you used the command prompt (here I wanted only images stored with extension .JPG so I used *.jpg to call them you can use .jpeg or XML anything depending on your extension of images)"
   ]
  },
  {
   "cell_type": "markdown",
   "metadata": {},
   "source": [
    "![alt text](filename.JPG \"filename\")"
   ]
  },
  {
   "cell_type": "markdown",
   "metadata": {},
   "source": [
    "![alt text](textfile.JPG \"textfile\")"
   ]
  },
  {
   "cell_type": "markdown",
   "metadata": {},
   "source": [
    "Now enter ctrl+f and remove main directory details, for excel to pull images into it we need to give details of subdirectories and filenames starting with a \" ./ \" so we replace first backslash \\ with ./ and the second one with /"
   ]
  },
  {
   "cell_type": "markdown",
   "metadata": {},
   "source": [
    "![alt text](replacing.JPG \"replacing\")"
   ]
  },
  {
   "cell_type": "markdown",
   "metadata": {},
   "source": [
    "After making changes to file save the text file."
   ]
  },
  {
   "cell_type": "markdown",
   "metadata": {},
   "source": [
    "![alt text](after replacing.JPG \"excel\")"
   ]
  },
  {
   "cell_type": "markdown",
   "metadata": {},
   "source": [
    "Now open Microsoft Excel, copy all names in a text file and paste them in excel sheet."
   ]
  },
  {
   "cell_type": "markdown",
   "metadata": {},
   "source": [
    "![alt text](excel.JPG \"excel\")"
   ]
  },
  {
   "cell_type": "markdown",
   "metadata": {},
   "source": [
    "If you want to label images then make another column named label and fill them depending on how you want to label them.Here I labelled them depending on their country"
   ]
  },
  {
   "cell_type": "markdown",
   "metadata": {},
   "source": [
    "![alt text](labelling.JPG \"Labelling\")"
   ]
  },
  {
   "cell_type": "markdown",
   "metadata": {},
   "source": [
    "Now save it with extension CSV(Comma delimited) in the folder(dataset) where you have folders containing images."
   ]
  },
  {
   "cell_type": "markdown",
   "metadata": {},
   "source": [
    "![alt text](saving.JPG \"Saving\")"
   ]
  },
  {
   "cell_type": "markdown",
   "metadata": {},
   "source": [
    "Now remove text file from that folder and convert folder which we named dataset to zip file.\n",
    "# Your Done!!!\n",
    "You have successfully made a dataset in CSV format\n"
   ]
  },
  {
   "cell_type": "markdown",
   "metadata": {},
   "source": [
    "# Conclusion\n",
    "This tutorial provides a quick guide on how to make datasets in CSV format from images for data science. I hope you find this tutorial useful when you want to make a dataset. Hurray!!! You have completed this tutorial. If you any questions or thoughts on the tutorial, feel free to reach out in the comments below."
   ]
  },
  {
   "cell_type": "markdown",
   "metadata": {},
   "source": [
    "![image.png](attachment:image.png)"
   ]
  },
  {
   "cell_type": "code",
   "execution_count": null,
   "metadata": {},
   "outputs": [],
   "source": []
  }
 ],
 "metadata": {
  "kernelspec": {
   "display_name": "Python 3",
   "language": "python",
   "name": "python3"
  },
  "language_info": {
   "codemirror_mode": {
    "name": "ipython",
    "version": 3
   },
   "file_extension": ".py",
   "mimetype": "text/x-python",
   "name": "python",
   "nbconvert_exporter": "python",
   "pygments_lexer": "ipython3",
   "version": "3.6.5"
  }
 },
 "nbformat": 4,
 "nbformat_minor": 2
}
